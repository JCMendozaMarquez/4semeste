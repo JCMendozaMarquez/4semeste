{
 "cells": [
  {
   "cell_type": "code",
   "execution_count": 1,
   "id": "879fc37e",
   "metadata": {},
   "outputs": [
    {
     "ename": "ModuleNotFoundError",
     "evalue": "No module named 'googletrans'",
     "output_type": "error",
     "traceback": [
      "\u001b[1;31m---------------------------------------------------------------------------\u001b[0m",
      "\u001b[1;31mModuleNotFoundError\u001b[0m                       Traceback (most recent call last)",
      "Input \u001b[1;32mIn [1]\u001b[0m, in \u001b[0;36m<cell line: 1>\u001b[1;34m()\u001b[0m\n\u001b[1;32m----> 1\u001b[0m \u001b[38;5;28;01mfrom\u001b[39;00m \u001b[38;5;21;01mgoogletrans\u001b[39;00m \u001b[38;5;28;01mimport\u001b[39;00m Translator, exceptions\n\u001b[0;32m      3\u001b[0m \u001b[38;5;28;01mdef\u001b[39;00m \u001b[38;5;21mtraducir_texto\u001b[39m():\n\u001b[0;32m      4\u001b[0m     texto_a_traducir \u001b[38;5;241m=\u001b[39m entrada_texto\u001b[38;5;241m.\u001b[39mget(\u001b[38;5;124m\"\u001b[39m\u001b[38;5;124m1.0\u001b[39m\u001b[38;5;124m\"\u001b[39m, \u001b[38;5;124m\"\u001b[39m\u001b[38;5;124mend-1c\u001b[39m\u001b[38;5;124m\"\u001b[39m)\n",
      "\u001b[1;31mModuleNotFoundError\u001b[0m: No module named 'googletrans'"
     ]
    }
   ],
   "source": [
    "from googletrans import Translator, exceptions\n",
    "\n",
    "def traducir_texto():\n",
    "    texto_a_traducir = entrada_texto.get(\"1.0\", \"end-1c\")\n",
    "    idioma_origen = idioma_origen_var.get()\n",
    "    idioma_destino = idioma_destino_var.get()\n",
    "\n",
    "    if not texto_a_traducir.strip():\n",
    "        resultado_texto.config(state=\"normal\")\n",
    "        resultado_texto.delete(\"1.0\", \"end\")\n",
    "        resultado_texto.insert(\"1.0\", \"Ingresa un texto para traducir.\")\n",
    "        resultado_texto.config(state=\"disabled\")\n",
    "        return\n",
    "\n",
    "    try:\n",
    "        translator = Translator()\n",
    "        traduccion = translator.translate(texto_a_traducir, src=idioma_origen, dest=idioma_destino)\n",
    "        resultado_texto.config(state=\"normal\")\n",
    "        resultado_texto.delete(\"1.0\", \"end\")\n",
    "        resultado_texto.insert(\"1.0\", traduccion.text)\n",
    "        resultado_texto.config(state=\"disabled\")\n",
    "    except exceptions.GoogleTransError as e:\n",
    "        resultado_texto.config(state=\"normal\")\n",
    "        resultado_texto.delete(\"1.0\", \"end\")\n",
    "        resultado_texto.insert(\"1.0\", f\"Error de traducción: {str(e)}\")\n",
    "        resultado_texto.config(state=\"disabled\")\n"
   ]
  },
  {
   "cell_type": "code",
   "execution_count": null,
   "id": "b61de7a3",
   "metadata": {},
   "outputs": [],
   "source": []
  }
 ],
 "metadata": {
  "kernelspec": {
   "display_name": "Python 3 (ipykernel)",
   "language": "python",
   "name": "python3"
  },
  "language_info": {
   "codemirror_mode": {
    "name": "ipython",
    "version": 3
   },
   "file_extension": ".py",
   "mimetype": "text/x-python",
   "name": "python",
   "nbconvert_exporter": "python",
   "pygments_lexer": "ipython3",
   "version": "3.9.12"
  }
 },
 "nbformat": 4,
 "nbformat_minor": 5
}
