{
 "cells": [
  {
   "cell_type": "code",
   "execution_count": 3,
   "id": "e489a1e9",
   "metadata": {},
   "outputs": [
    {
     "name": "stdout",
     "output_type": "stream",
     "text": [
      "Resultado: Indicador A: Buen desempeño financiero.\n",
      "Complejidad Ciclomática: -143.0\n"
     ]
    }
   ],
   "source": [
    "# Supongamos que tienes una lista de datos financieros\n",
    "datos_financieros = [100, 150, 200, 120, 180]\n",
    "\n",
    "# Luego, puedes llamar a la función calcular_indicadores_financieros con esa lista\n",
    "resultado, complejidad_ciclomatica = calcular_indicadores_financieros(datos_financieros)\n",
    "\n",
    "# Imprimir los resultados\n",
    "print(\"Resultado:\", resultado)\n",
    "print(\"Complejidad Ciclomática:\", complejidad_ciclomatica)\n",
    "\n",
    "\n",
    "def calcular_indicadores_financieros(datos):\n",
    "    total_datos = len(datos)\n",
    "    suma_datos = sum(datos)\n",
    "    promedio_datos = suma_datos / total_datos\n",
    "\n",
    "    # Cálculo de la complejidad ciclomática\n",
    "    complejidad_ciclomatica = total_datos - promedio_datos + 2\n",
    "\n",
    "    # Evaluar indicadores financieros\n",
    "    if promedio_datos > 0:\n",
    "        ratio1 = suma_datos / promedio_datos\n",
    "        if ratio1 > 1:\n",
    "            resultado = \"Indicador A: Buen desempeño financiero.\"\n",
    "        else:\n",
    "            resultado = \"Indicador B: Desempeño financiero por debajo del promedio.\"\n",
    "    else:\n",
    "        resultado = \"No se pueden calcular indicadores sin datos.\"\n",
    "\n",
    "    return resultado, complejidad_ciclomatica\n"
   ]
  },
  {
   "cell_type": "code",
   "execution_count": null,
   "id": "e8ab84a1",
   "metadata": {},
   "outputs": [],
   "source": []
  }
 ],
 "metadata": {
  "kernelspec": {
   "display_name": "Python 3 (ipykernel)",
   "language": "python",
   "name": "python3"
  },
  "language_info": {
   "codemirror_mode": {
    "name": "ipython",
    "version": 3
   },
   "file_extension": ".py",
   "mimetype": "text/x-python",
   "name": "python",
   "nbconvert_exporter": "python",
   "pygments_lexer": "ipython3",
   "version": "3.9.12"
  }
 },
 "nbformat": 4,
 "nbformat_minor": 5
}
