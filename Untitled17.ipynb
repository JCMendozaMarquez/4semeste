{
 "cells": [
  {
   "cell_type": "code",
   "execution_count": 3,
   "id": "10240b1d",
   "metadata": {},
   "outputs": [
    {
     "ename": "ModuleNotFoundError",
     "evalue": "No module named 'googletrans'",
     "output_type": "error",
     "traceback": [
      "\u001b[1;31m---------------------------------------------------------------------------\u001b[0m",
      "\u001b[1;31mModuleNotFoundError\u001b[0m                       Traceback (most recent call last)",
      "Input \u001b[1;32mIn [3]\u001b[0m, in \u001b[0;36m<cell line: 1>\u001b[1;34m()\u001b[0m\n\u001b[1;32m----> 1\u001b[0m \u001b[38;5;28;01mfrom\u001b[39;00m \u001b[38;5;21;01mgoogletrans\u001b[39;00m \u001b[38;5;28;01mimport\u001b[39;00m Translator\n\u001b[0;32m      3\u001b[0m \u001b[38;5;28;01mdef\u001b[39;00m \u001b[38;5;21mtraducir_texto\u001b[39m():\n\u001b[0;32m      4\u001b[0m     texto \u001b[38;5;241m=\u001b[39m entrada_texto\u001b[38;5;241m.\u001b[39mget()\n",
      "\u001b[1;31mModuleNotFoundError\u001b[0m: No module named 'googletrans'"
     ]
    }
   ],
   "source": [
    "from googletrans import Translator\n",
    "\n",
    "def traducir_texto():\n",
    "    texto = entrada_texto.get()\n",
    "    idioma_destino = idioma_destino_var.get()\n",
    "\n",
    "    translator = Translator()\n",
    "    traduccion = translator.translate(texto, dest=idioma_destino)\n",
    "\n",
    "    resultado_texto.config(state=\"normal\")\n",
    "    resultado_texto.delete(0, \"end\")\n",
    "    resultado_texto.insert(0, traduccion.text)\n",
    "    resultado_texto.config(state=\"readonly\")\n",
    "\n",
    "# Crear ventana principal\n",
    "import tkinter as tk\n",
    "\n",
    "ventana = tk.Tk()\n",
    "ventana.title(\"Traductor Simple\")\n",
    "\n",
    "# Crear y configurar elementos de la interfaz\n",
    "etiqueta_entrada = tk.Label(ventana, text=\"Texto a Traducir:\")\n",
    "etiqueta_entrada.pack()\n",
    "\n",
    "entrada_texto = tk.Entry(ventana)\n",
    "entrada_texto.pack()\n",
    "\n",
    "etiqueta_idioma_destino = tk.Label(ventana, text=\"Idioma de Destino:\")\n",
    "etiqueta_idioma_destino.pack()\n",
    "\n",
    "idiomas_disponibles = [\"es\", \"en\", \"fr\", \"de\", \"it\", \"ja\", \"ko\", \"zh\", \"ru\"]\n",
    "idioma_destino_var = tk.StringVar()\n",
    "idioma_destino_var.set(\"es\")\n",
    "menu_destino = tk.OptionMenu(ventana, idioma_destino_var, *idiomas_disponibles)\n",
    "menu_destino.pack()\n",
    "\n",
    "boton_traducir = tk.Button(ventana, text=\"Traducir\", command=traducir_texto)\n",
    "boton_traducir.pack()\n",
    "\n",
    "resultado_texto = tk.Entry(ventana, state=\"readonly\")\n",
    "resultado_texto.pack()\n",
    "\n",
    "# Ejecutar la aplicación\n",
    "ventana.mainloop()\n"
   ]
  },
  {
   "cell_type": "code",
   "execution_count": null,
   "id": "46c3a66b",
   "metadata": {},
   "outputs": [],
   "source": []
  }
 ],
 "metadata": {
  "kernelspec": {
   "display_name": "Python 3 (ipykernel)",
   "language": "python",
   "name": "python3"
  },
  "language_info": {
   "codemirror_mode": {
    "name": "ipython",
    "version": 3
   },
   "file_extension": ".py",
   "mimetype": "text/x-python",
   "name": "python",
   "nbconvert_exporter": "python",
   "pygments_lexer": "ipython3",
   "version": "3.9.12"
  }
 },
 "nbformat": 4,
 "nbformat_minor": 5
}
