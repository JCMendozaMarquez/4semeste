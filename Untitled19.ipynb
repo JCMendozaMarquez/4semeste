{
 "cells": [
  {
   "cell_type": "code",
   "execution_count": 2,
   "id": "d1769872",
   "metadata": {},
   "outputs": [
    {
     "name": "stderr",
     "output_type": "stream",
     "text": [
      "Exception in Tkinter callback\n",
      "Traceback (most recent call last):\n",
      "  File \"C:\\Users\\admin\\anaconda3\\lib\\tkinter\\__init__.py\", line 1892, in __call__\n",
      "    return self.func(*args)\n",
      "  File \"C:\\Users\\admin\\AppData\\Local\\Temp\\ipykernel_9716\\4124929600.py\", line 32, in traducir_texto\n",
      "    traduccion = resultado_json[0][\"translations\"][0][\"text\"]\n",
      "KeyError: 0\n"
     ]
    }
   ],
   "source": [
    "import tkinter as tk\n",
    "import requests\n",
    "\n",
    "def traducir_texto():\n",
    "    texto_a_traducir = entrada_texto.get(\"1.0\", \"end-1c\")\n",
    "    idioma_origen = idioma_origen_var.get()\n",
    "    idioma_destino = idioma_destino_var.get()\n",
    "\n",
    "    if not texto_a_traducir.strip():\n",
    "        resultado_texto.config(state=\"normal\")\n",
    "        resultado_texto.delete(\"1.0\", \"end\")\n",
    "        resultado_texto.insert(\"1.0\", \"Ingresa un texto para traducir.\")\n",
    "        resultado_texto.config(state=\"disabled\")\n",
    "        return\n",
    "\n",
    "    # Reemplaza con tu clave de suscripción de Azure\n",
    "    clave_suscripcion = \"TU_CLAVE_DE_SUSCRIPCION_AZURE\"\n",
    "    endpoint = \"https://api.cognitive.microsofttranslator.com\"\n",
    "    ruta = \"/translate?api-version=3.0\"\n",
    "    params = f\"&from={idioma_origen}&to={idioma_destino}\"\n",
    "\n",
    "    headers = {\n",
    "        \"Ocp-Apim-Subscription-Key\": clave_suscripcion,\n",
    "        \"Content-Type\": \"application/json\",\n",
    "    }\n",
    "\n",
    "    body = [{\"text\": texto_a_traducir}]\n",
    "\n",
    "    response = requests.post(endpoint + ruta + params, headers=headers, json=body)\n",
    "    resultado_json = response.json()\n",
    "\n",
    "    traduccion = resultado_json[0][\"translations\"][0][\"text\"]\n",
    "\n",
    "    resultado_texto.config(state=\"normal\")\n",
    "    resultado_texto.delete(\"1.0\", \"end\")\n",
    "    resultado_texto.insert(\"1.0\", traduccion)\n",
    "    resultado_texto.config(state=\"disabled\")\n",
    "\n",
    "# Crear ventana principal\n",
    "ventana = tk.Tk()\n",
    "ventana.title(\"Traductor\")\n",
    "\n",
    "# Crear y configurar elementos de la interfaz\n",
    "etiqueta_entrada = tk.Label(ventana, text=\"Texto a Traducir:\")\n",
    "etiqueta_entrada.pack()\n",
    "\n",
    "entrada_texto = tk.Text(ventana, height=5, width=40)\n",
    "entrada_texto.pack()\n",
    "\n",
    "etiqueta_idioma_origen = tk.Label(ventana, text=\"Idioma de Origen:\")\n",
    "etiqueta_idioma_origen.pack()\n",
    "\n",
    "idiomas_disponibles = [\"es\", \"en\", \"fr\", \"de\", \"it\", \"ja\", \"ko\", \"zh\", \"ru\"]\n",
    "idioma_origen_var = tk.StringVar()\n",
    "idioma_origen_var.set(\"es\")\n",
    "menu_origen = tk.OptionMenu(ventana, idioma_origen_var, *idiomas_disponibles)\n",
    "menu_origen.pack()\n",
    "\n",
    "etiqueta_idioma_destino = tk.Label(ventana, text=\"Idioma de Destino:\")\n",
    "etiqueta_idioma_destino.pack()\n",
    "\n",
    "idioma_destino_var = tk.StringVar()\n",
    "idioma_destino_var.set(\"en\")\n",
    "menu_destino = tk.OptionMenu(ventana, idioma_destino_var, *idiomas_disponibles)\n",
    "menu_destino.pack()\n",
    "\n",
    "boton_traducir = tk.Button(ventana, text=\"Traducir\", command=traducir_texto)\n",
    "boton_traducir.pack()\n",
    "\n",
    "resultado_texto = tk.Text(ventana, height=5, width=40)\n",
    "resultado_texto.config(state=\"disabled\")\n",
    "resultado_texto.pack()\n",
    "\n",
    "# Ejecutar la aplicación\n",
    "ventana.mainloop()\n"
   ]
  },
  {
   "cell_type": "code",
   "execution_count": 3,
   "id": "f963b280",
   "metadata": {},
   "outputs": [
    {
     "name": "stdout",
     "output_type": "stream",
     "text": [
      "Ingrese el texto a traducir: hola\n",
      "Ingrese el idioma de destino (ejemplo: es, en, fr): fr\n"
     ]
    },
    {
     "ename": "AttributeError",
     "evalue": "'NoneType' object has no attribute 'group'",
     "output_type": "error",
     "traceback": [
      "\u001b[1;31m---------------------------------------------------------------------------\u001b[0m",
      "\u001b[1;31mAttributeError\u001b[0m                            Traceback (most recent call last)",
      "Input \u001b[1;32mIn [3]\u001b[0m, in \u001b[0;36m<cell line: 8>\u001b[1;34m()\u001b[0m\n\u001b[0;32m      9\u001b[0m texto_a_traducir \u001b[38;5;241m=\u001b[39m \u001b[38;5;28minput\u001b[39m(\u001b[38;5;124m\"\u001b[39m\u001b[38;5;124mIngrese el texto a traducir: \u001b[39m\u001b[38;5;124m\"\u001b[39m)\n\u001b[0;32m     10\u001b[0m idioma_destino \u001b[38;5;241m=\u001b[39m \u001b[38;5;28minput\u001b[39m(\u001b[38;5;124m\"\u001b[39m\u001b[38;5;124mIngrese el idioma de destino (ejemplo: es, en, fr): \u001b[39m\u001b[38;5;124m\"\u001b[39m)\n\u001b[1;32m---> 12\u001b[0m resultado \u001b[38;5;241m=\u001b[39m \u001b[43mtraducir_texto\u001b[49m\u001b[43m(\u001b[49m\u001b[43mtexto_a_traducir\u001b[49m\u001b[43m,\u001b[49m\u001b[43m \u001b[49m\u001b[43midioma_destino\u001b[49m\u001b[43m)\u001b[49m\n\u001b[0;32m     13\u001b[0m \u001b[38;5;28mprint\u001b[39m(\u001b[38;5;124mf\u001b[39m\u001b[38;5;124m\"\u001b[39m\u001b[38;5;124mTraducción: \u001b[39m\u001b[38;5;132;01m{\u001b[39;00mresultado\u001b[38;5;132;01m}\u001b[39;00m\u001b[38;5;124m\"\u001b[39m)\n",
      "Input \u001b[1;32mIn [3]\u001b[0m, in \u001b[0;36mtraducir_texto\u001b[1;34m(texto, idioma_destino)\u001b[0m\n\u001b[0;32m      3\u001b[0m \u001b[38;5;28;01mdef\u001b[39;00m \u001b[38;5;21mtraducir_texto\u001b[39m(texto, idioma_destino):\n\u001b[0;32m      4\u001b[0m     translator \u001b[38;5;241m=\u001b[39m Translator()\n\u001b[1;32m----> 5\u001b[0m     traduccion \u001b[38;5;241m=\u001b[39m \u001b[43mtranslator\u001b[49m\u001b[38;5;241;43m.\u001b[39;49m\u001b[43mtranslate\u001b[49m\u001b[43m(\u001b[49m\u001b[43mtexto\u001b[49m\u001b[43m,\u001b[49m\u001b[43m \u001b[49m\u001b[43mdest\u001b[49m\u001b[38;5;241;43m=\u001b[39;49m\u001b[43midioma_destino\u001b[49m\u001b[43m)\u001b[49m\n\u001b[0;32m      6\u001b[0m     \u001b[38;5;28;01mreturn\u001b[39;00m traduccion\u001b[38;5;241m.\u001b[39mtext\n",
      "File \u001b[1;32m~\\anaconda3\\lib\\site-packages\\googletrans\\client.py:172\u001b[0m, in \u001b[0;36mTranslator.translate\u001b[1;34m(self, text, dest, src)\u001b[0m\n\u001b[0;32m    169\u001b[0m     \u001b[38;5;28;01mreturn\u001b[39;00m result\n\u001b[0;32m    171\u001b[0m origin \u001b[38;5;241m=\u001b[39m text\n\u001b[1;32m--> 172\u001b[0m data \u001b[38;5;241m=\u001b[39m \u001b[38;5;28;43mself\u001b[39;49m\u001b[38;5;241;43m.\u001b[39;49m\u001b[43m_translate\u001b[49m\u001b[43m(\u001b[49m\u001b[43mtext\u001b[49m\u001b[43m,\u001b[49m\u001b[43m \u001b[49m\u001b[43mdest\u001b[49m\u001b[43m,\u001b[49m\u001b[43m \u001b[49m\u001b[43msrc\u001b[49m\u001b[43m)\u001b[49m\n\u001b[0;32m    174\u001b[0m \u001b[38;5;66;03m# this code will be updated when the format is changed.\u001b[39;00m\n\u001b[0;32m    175\u001b[0m translated \u001b[38;5;241m=\u001b[39m \u001b[38;5;124m'\u001b[39m\u001b[38;5;124m'\u001b[39m\u001b[38;5;241m.\u001b[39mjoin([d[\u001b[38;5;241m0\u001b[39m] \u001b[38;5;28;01mif\u001b[39;00m d[\u001b[38;5;241m0\u001b[39m] \u001b[38;5;28;01melse\u001b[39;00m \u001b[38;5;124m'\u001b[39m\u001b[38;5;124m'\u001b[39m \u001b[38;5;28;01mfor\u001b[39;00m d \u001b[38;5;129;01min\u001b[39;00m data[\u001b[38;5;241m0\u001b[39m]])\n",
      "File \u001b[1;32m~\\anaconda3\\lib\\site-packages\\googletrans\\client.py:75\u001b[0m, in \u001b[0;36mTranslator._translate\u001b[1;34m(self, text, dest, src)\u001b[0m\n\u001b[0;32m     72\u001b[0m \u001b[38;5;28;01mif\u001b[39;00m \u001b[38;5;129;01mnot\u001b[39;00m PY3 \u001b[38;5;129;01mand\u001b[39;00m \u001b[38;5;28misinstance\u001b[39m(text, \u001b[38;5;28mstr\u001b[39m):  \u001b[38;5;66;03m# pragma: nocover\u001b[39;00m\n\u001b[0;32m     73\u001b[0m     text \u001b[38;5;241m=\u001b[39m text\u001b[38;5;241m.\u001b[39mdecode(\u001b[38;5;124m'\u001b[39m\u001b[38;5;124mutf-8\u001b[39m\u001b[38;5;124m'\u001b[39m)\n\u001b[1;32m---> 75\u001b[0m token \u001b[38;5;241m=\u001b[39m \u001b[38;5;28;43mself\u001b[39;49m\u001b[38;5;241;43m.\u001b[39;49m\u001b[43mtoken_acquirer\u001b[49m\u001b[38;5;241;43m.\u001b[39;49m\u001b[43mdo\u001b[49m\u001b[43m(\u001b[49m\u001b[43mtext\u001b[49m\u001b[43m)\u001b[49m\n\u001b[0;32m     76\u001b[0m params \u001b[38;5;241m=\u001b[39m utils\u001b[38;5;241m.\u001b[39mbuild_params(query\u001b[38;5;241m=\u001b[39mtext, src\u001b[38;5;241m=\u001b[39msrc, dest\u001b[38;5;241m=\u001b[39mdest,\n\u001b[0;32m     77\u001b[0m                             token\u001b[38;5;241m=\u001b[39mtoken)\n\u001b[0;32m     78\u001b[0m url \u001b[38;5;241m=\u001b[39m urls\u001b[38;5;241m.\u001b[39mTRANSLATE\u001b[38;5;241m.\u001b[39mformat(host\u001b[38;5;241m=\u001b[39m\u001b[38;5;28mself\u001b[39m\u001b[38;5;241m.\u001b[39m_pick_service_url())\n",
      "File \u001b[1;32m~\\anaconda3\\lib\\site-packages\\googletrans\\gtoken.py:180\u001b[0m, in \u001b[0;36mTokenAcquirer.do\u001b[1;34m(self, text)\u001b[0m\n\u001b[0;32m    179\u001b[0m \u001b[38;5;28;01mdef\u001b[39;00m \u001b[38;5;21mdo\u001b[39m(\u001b[38;5;28mself\u001b[39m, text):\n\u001b[1;32m--> 180\u001b[0m     \u001b[38;5;28;43mself\u001b[39;49m\u001b[38;5;241;43m.\u001b[39;49m\u001b[43m_update\u001b[49m\u001b[43m(\u001b[49m\u001b[43m)\u001b[49m\n\u001b[0;32m    181\u001b[0m     tk \u001b[38;5;241m=\u001b[39m \u001b[38;5;28mself\u001b[39m\u001b[38;5;241m.\u001b[39macquire(text)\n\u001b[0;32m    182\u001b[0m     \u001b[38;5;28;01mreturn\u001b[39;00m tk\n",
      "File \u001b[1;32m~\\anaconda3\\lib\\site-packages\\googletrans\\gtoken.py:59\u001b[0m, in \u001b[0;36mTokenAcquirer._update\u001b[1;34m(self)\u001b[0m\n\u001b[0;32m     57\u001b[0m r \u001b[38;5;241m=\u001b[39m \u001b[38;5;28mself\u001b[39m\u001b[38;5;241m.\u001b[39msession\u001b[38;5;241m.\u001b[39mget(\u001b[38;5;28mself\u001b[39m\u001b[38;5;241m.\u001b[39mhost)\n\u001b[0;32m     58\u001b[0m \u001b[38;5;66;03m# this will be the same as python code after stripping out a reserved word 'var'\u001b[39;00m\n\u001b[1;32m---> 59\u001b[0m code \u001b[38;5;241m=\u001b[39m unicode(\u001b[38;5;28;43mself\u001b[39;49m\u001b[38;5;241;43m.\u001b[39;49m\u001b[43mRE_TKK\u001b[49m\u001b[38;5;241;43m.\u001b[39;49m\u001b[43msearch\u001b[49m\u001b[43m(\u001b[49m\u001b[43mr\u001b[49m\u001b[38;5;241;43m.\u001b[39;49m\u001b[43mtext\u001b[49m\u001b[43m)\u001b[49m\u001b[38;5;241;43m.\u001b[39;49m\u001b[43mgroup\u001b[49m(\u001b[38;5;241m1\u001b[39m))\u001b[38;5;241m.\u001b[39mreplace(\u001b[38;5;124m'\u001b[39m\u001b[38;5;124mvar \u001b[39m\u001b[38;5;124m'\u001b[39m, \u001b[38;5;124m'\u001b[39m\u001b[38;5;124m'\u001b[39m)\n\u001b[0;32m     60\u001b[0m \u001b[38;5;66;03m# unescape special ascii characters such like a \\x3d(=)\u001b[39;00m\n\u001b[0;32m     61\u001b[0m \u001b[38;5;28;01mif\u001b[39;00m PY3:  \u001b[38;5;66;03m# pragma: no cover\u001b[39;00m\n",
      "\u001b[1;31mAttributeError\u001b[0m: 'NoneType' object has no attribute 'group'"
     ]
    }
   ],
   "source": [
    "from googletrans import Translator\n",
    "\n",
    "def traducir_texto(texto, idioma_destino):\n",
    "    translator = Translator()\n",
    "    traduccion = translator.translate(texto, dest=idioma_destino)\n",
    "    return traduccion.text\n",
    "\n",
    "if __name__ == \"__main__\":\n",
    "    texto_a_traducir = input(\"Ingrese el texto a traducir: \")\n",
    "    idioma_destino = input(\"Ingrese el idioma de destino (ejemplo: es, en, fr): \")\n",
    "\n",
    "    resultado = traducir_texto(texto_a_traducir, idioma_destino)\n",
    "    print(f\"Traducción: {resultado}\")\n"
   ]
  },
  {
   "cell_type": "code",
   "execution_count": null,
   "id": "2d6de87e",
   "metadata": {},
   "outputs": [],
   "source": []
  }
 ],
 "metadata": {
  "kernelspec": {
   "display_name": "Python 3 (ipykernel)",
   "language": "python",
   "name": "python3"
  },
  "language_info": {
   "codemirror_mode": {
    "name": "ipython",
    "version": 3
   },
   "file_extension": ".py",
   "mimetype": "text/x-python",
   "name": "python",
   "nbconvert_exporter": "python",
   "pygments_lexer": "ipython3",
   "version": "3.9.12"
  }
 },
 "nbformat": 4,
 "nbformat_minor": 5
}
