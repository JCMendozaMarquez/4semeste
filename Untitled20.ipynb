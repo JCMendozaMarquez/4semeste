{
 "cells": [
  {
   "cell_type": "code",
   "execution_count": 1,
   "id": "9d4207a6",
   "metadata": {},
   "outputs": [
    {
     "ename": "FileNotFoundError",
     "evalue": "[Errno 2] No such file or directory: 'ruta_a_la_imagen.png'",
     "output_type": "error",
     "traceback": [
      "\u001b[1;31m---------------------------------------------------------------------------\u001b[0m",
      "\u001b[1;31mFileNotFoundError\u001b[0m                         Traceback (most recent call last)",
      "Input \u001b[1;32mIn [1]\u001b[0m, in \u001b[0;36m<cell line: 35>\u001b[1;34m()\u001b[0m\n\u001b[0;32m     32\u001b[0m entrada_correo\u001b[38;5;241m.\u001b[39mgrid(row\u001b[38;5;241m=\u001b[39m\u001b[38;5;241m3\u001b[39m, column\u001b[38;5;241m=\u001b[39m\u001b[38;5;241m1\u001b[39m, padx\u001b[38;5;241m=\u001b[39m\u001b[38;5;241m5\u001b[39m, pady\u001b[38;5;241m=\u001b[39m\u001b[38;5;241m5\u001b[39m)\n\u001b[0;32m     34\u001b[0m \u001b[38;5;66;03m# Imagen predefinida\u001b[39;00m\n\u001b[1;32m---> 35\u001b[0m imagen_predefinida \u001b[38;5;241m=\u001b[39m \u001b[43mImage\u001b[49m\u001b[38;5;241;43m.\u001b[39;49m\u001b[43mopen\u001b[49m\u001b[43m(\u001b[49m\u001b[38;5;124;43m\"\u001b[39;49m\u001b[38;5;124;43mruta_a_la_imagen.png\u001b[39;49m\u001b[38;5;124;43m\"\u001b[39;49m\u001b[43m)\u001b[49m  \u001b[38;5;66;03m# Reemplaza \"ruta_a_la_imagen.png\" con la ruta de tu imagen\u001b[39;00m\n\u001b[0;32m     36\u001b[0m imagen_predefinida \u001b[38;5;241m=\u001b[39m imagen_predefinida\u001b[38;5;241m.\u001b[39mresize((\u001b[38;5;241m100\u001b[39m, \u001b[38;5;241m100\u001b[39m), Image\u001b[38;5;241m.\u001b[39mANTIALIAS)\n\u001b[0;32m     37\u001b[0m imagen_predefinida \u001b[38;5;241m=\u001b[39m ImageTk\u001b[38;5;241m.\u001b[39mPhotoImage(imagen_predefinida)\n",
      "File \u001b[1;32m~\\anaconda3\\lib\\site-packages\\PIL\\Image.py:2953\u001b[0m, in \u001b[0;36mopen\u001b[1;34m(fp, mode, formats)\u001b[0m\n\u001b[0;32m   2950\u001b[0m     filename \u001b[38;5;241m=\u001b[39m fp\n\u001b[0;32m   2952\u001b[0m \u001b[38;5;28;01mif\u001b[39;00m filename:\n\u001b[1;32m-> 2953\u001b[0m     fp \u001b[38;5;241m=\u001b[39m \u001b[43mbuiltins\u001b[49m\u001b[38;5;241;43m.\u001b[39;49m\u001b[43mopen\u001b[49m\u001b[43m(\u001b[49m\u001b[43mfilename\u001b[49m\u001b[43m,\u001b[49m\u001b[43m \u001b[49m\u001b[38;5;124;43m\"\u001b[39;49m\u001b[38;5;124;43mrb\u001b[39;49m\u001b[38;5;124;43m\"\u001b[39;49m\u001b[43m)\u001b[49m\n\u001b[0;32m   2954\u001b[0m     exclusive_fp \u001b[38;5;241m=\u001b[39m \u001b[38;5;28;01mTrue\u001b[39;00m\n\u001b[0;32m   2956\u001b[0m \u001b[38;5;28;01mtry\u001b[39;00m:\n",
      "\u001b[1;31mFileNotFoundError\u001b[0m: [Errno 2] No such file or directory: 'ruta_a_la_imagen.png'"
     ]
    }
   ],
   "source": [
    "import tkinter as tk\n",
    "from tkinter import ttk\n",
    "from PIL import Image, ImageTk  # Importar desde Pillow\n",
    "\n",
    "# Crear una instancia de la ventana principal\n",
    "ventana = tk.Tk()\n",
    "ventana.title(\"Formulario de Estudiantes\")\n",
    "\n",
    "# Crear un marco para los datos del estudiante\n",
    "marco_estudiante = ttk.LabelFrame(ventana, text=\"Datos de Estudiante\")\n",
    "marco_estudiante.grid(row=0, column=0, padx=10, pady=10, sticky=\"w\")\n",
    "\n",
    "# Etiquetas y campos para los datos del estudiante\n",
    "etiqueta_nombre = ttk.Label(marco_estudiante, text=\"Nombre:\")\n",
    "etiqueta_apellido = ttk.Label(marco_estudiante, text=\"Apellido:\")\n",
    "etiqueta_fecha_nacimiento = ttk.Label(marco_estudiante, text=\"Fecha de Nacimiento:\")\n",
    "etiqueta_correo = ttk.Label(marco_estudiante, text=\"Correo Electrónico:\")\n",
    "\n",
    "entrada_nombre = ttk.Entry(marco_estudiante)\n",
    "entrada_apellido = ttk.Entry(marco_estudiante)\n",
    "entrada_fecha_nacimiento = ttk.Entry(marco_estudiante)\n",
    "entrada_correo = ttk.Entry(marco_estudiante)\n",
    "\n",
    "etiqueta_nombre.grid(row=0, column=0, sticky=\"w\")\n",
    "etiqueta_apellido.grid(row=1, column=0, sticky=\"w\")\n",
    "etiqueta_fecha_nacimiento.grid(row=2, column=0, sticky=\"w\")\n",
    "etiqueta_correo.grid(row=3, column=0, sticky=\"w\")\n",
    "\n",
    "entrada_nombre.grid(row=0, column=1, padx=5, pady=5)\n",
    "entrada_apellido.grid(row=1, column=1, padx=5, pady=5)\n",
    "entrada_fecha_nacimiento.grid(row=2, column=1, padx=5, pady=5)\n",
    "entrada_correo.grid(row=3, column=1, padx=5, pady=5)\n",
    "\n",
    "# Imagen predefinida\n",
    "imagen_predefinida = Image.open(\".png\")  # Reemplaza \"ruta_a_la_imagen.png\" con la ruta de tu imagen\n",
    "imagen_predefinida = imagen_predefinida.resize((100, 100), Image.ANTIALIAS)\n",
    "imagen_predefinida = ImageTk.PhotoImage(imagen_predefinida)\n",
    "\n",
    "etiqueta_imagen = ttk.Label(marco_estudiante, image=imagen_predefinida)\n",
    "etiqueta_imagen.grid(row=0, column=2, rowspan=4, padx=10, pady=10, sticky=\"w\")\n",
    "\n",
    "# Crear un marco para los datos de contacto de emergencia\n",
    "marco_emergencia = ttk.LabelFrame(ventana, text=\"Contacto para Emergencias\")\n",
    "marco_emergencia.grid(row=1, column=0, padx=10, pady=10, sticky=\"w\")\n",
    "\n",
    "# Etiquetas y campos para los datos de contacto de emergencia\n",
    "etiqueta_nombre_contacto = ttk.Label(marco_emergencia, text=\"Nombre de Contacto:\")\n",
    "etiqueta_telefono1 = ttk.Label(marco_emergencia, text=\"Teléfono 1:\")\n",
    "etiqueta_telefono2 = ttk.Label(marco_emergencia, text=\"Teléfono 2:\")\n",
    "etiqueta_relacion = ttk.Label(marco_emergencia, text=\"Relación:\")\n",
    "\n",
    "entrada_nombre_contacto = ttk.Entry(marco_emergencia)\n",
    "entrada_telefono1 = ttk.Entry(marco_emergencia)\n",
    "entrada_telefono2 = ttk.Entry(marco_emergencia)\n",
    "\n",
    "opciones_relacion = [\"Padre\", \"Madre\", \"Hermano\", \"Hermana\", \"Otro\"]\n",
    "combobox_relacion = ttk.Combobox(marco_emergencia, values=opciones_relacion)\n",
    "\n",
    "etiqueta_nombre_contacto.grid(row=0, column=0, sticky=\"w\")\n",
    "etiqueta_telefono1.grid(row=1, column=0, sticky=\"w\")\n",
    "etiqueta_telefono2.grid(row=2, column=0, sticky=\"w\")\n",
    "etiqueta_relacion.grid(row=3, column=0, sticky=\"w\")\n",
    "\n",
    "entrada_nombre_contacto.grid(row=0, column=1, padx=5, pady=5)\n",
    "entrada_telefono1.grid(row=1, column=1, padx=5, pady=5)\n",
    "entrada_telefono2.grid(row=2, column=1, padx=5, pady=5)\n",
    "combobox_relacion.grid(row=3, column=1, padx=5, pady=5)\n",
    "\n",
    "# Ejecutar el bucle principal de Tkinter\n",
    "ventana.mainloop()\n"
   ]
  },
  {
   "cell_type": "code",
   "execution_count": null,
   "id": "ac6f7e90",
   "metadata": {},
   "outputs": [],
   "source": []
  }
 ],
 "metadata": {
  "kernelspec": {
   "display_name": "Python 3 (ipykernel)",
   "language": "python",
   "name": "python3"
  },
  "language_info": {
   "codemirror_mode": {
    "name": "ipython",
    "version": 3
   },
   "file_extension": ".py",
   "mimetype": "text/x-python",
   "name": "python",
   "nbconvert_exporter": "python",
   "pygments_lexer": "ipython3",
   "version": "3.9.12"
  }
 },
 "nbformat": 4,
 "nbformat_minor": 5
}
