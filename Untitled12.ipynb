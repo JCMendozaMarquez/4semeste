{
 "cells": [
  {
   "cell_type": "code",
   "execution_count": 8,
   "id": "6b5b2c36",
   "metadata": {},
   "outputs": [
    {
     "name": "stderr",
     "output_type": "stream",
     "text": [
      "Exception in Tkinter callback\n",
      "Traceback (most recent call last):\n",
      "  File \"C:\\Users\\admin\\anaconda3\\lib\\tkinter\\__init__.py\", line 1892, in __call__\n",
      "    return self.func(*args)\n",
      "  File \"C:\\Users\\admin\\AppData\\Local\\Temp\\ipykernel_63628\\2377305346.py\", line 26, in calcular_y_mostrar_imagen\n",
      "    label_imagen.config(image=img)\n",
      "  File \"C:\\Users\\admin\\anaconda3\\lib\\tkinter\\__init__.py\", line 1646, in configure\n",
      "    return self._configure('configure', cnf, kw)\n",
      "  File \"C:\\Users\\admin\\anaconda3\\lib\\tkinter\\__init__.py\", line 1636, in _configure\n",
      "    self.tk.call(_flatten((self._w, cmd)) + self._options(cnf))\n",
      "_tkinter.TclError: invalid command name \".!label3\"\n"
     ]
    }
   ],
   "source": [
    "import tkinter as tk\n",
    "from tkinter import messagebox\n",
    "from PIL import Image, ImageTk\n",
    "\n",
    "def calcular_y_mostrar_imagen():\n",
    "    try:\n",
    "        num1 = float(entrada_num1.get())\n",
    "        num2 = float(entrada_num2.get())\n",
    "\n",
    "        suma = num1 + num2\n",
    "        resta = num1 - num2\n",
    "        multiplicacion = num1 * num2\n",
    "        division = num1 / num2\n",
    "\n",
    "        resultado_texto.config(state=\"normal\")\n",
    "        resultado_texto.delete(\"1.0\", \"end\")\n",
    "        resultado_texto.insert(\"1.0\", f\"Suma: {suma}\\nResta: {resta}\\nMultiplicación: {multiplicacion}\\nDivisión: {division}\")\n",
    "        resultado_texto.config(state=\"disabled\")\n",
    "\n",
    "        if suma == 7 or resta == 7 or multiplicacion == 7 or division == 7:\n",
    "            mostrar_resultado(\"Bien\")\n",
    "           # Cargar y mostrar la imagen\n",
    "            img = Image.open(\"C:/Users\\\\admin\\\\Desktop\\\\tabienAAA.jpg\")\n",
    "            img = img.resize((200, 200), Image.ANTIALIAS)\n",
    "            img = ImageTk.PhotoImage(img)\n",
    "            label_imagen.config(image=img)\n",
    "            label_imagen.image = img\n",
    "        else:\n",
    "            mostrar_resultado(\"Mal\")\n",
    "          # Cargar y mostrar la imagen\n",
    "            img = Image.open(\"C:\\\\Users\\\\admin\\\\Desktop\\\\noMmms.jpg\")\n",
    "            img = img.resize((200, 200), Image.ANTIALIAS)\n",
    "            img = ImageTk.PhotoImage(img)\n",
    "            label_imagen.config(image=img)\n",
    "            label_imagen.image = img\n",
    "\n",
    "    except ValueError:\n",
    "        messagebox.showerror(\"Error\", \"Ingresa números válidos\")\n",
    "\n",
    "def mostrar_resultado(resultado):\n",
    "    resultado_label.config(text=resultado)\n",
    "\n",
    "# Crear ventana principal\n",
    "ventana = tk.Tk()\n",
    "ventana.title(\"Calculadora y Resultado\")\n",
    "\n",
    "# Crear y configurar elementos de la interfaz\n",
    "etiqueta_num1 = tk.Label(ventana, text=\"Número 1:\")\n",
    "etiqueta_num1.pack()\n",
    "entrada_num1 = tk.Entry(ventana)\n",
    "entrada_num1.pack()\n",
    "\n",
    "etiqueta_num2 = tk.Label(ventana, text=\"Número 2:\")\n",
    "etiqueta_num2.pack()\n",
    "entrada_num2 = tk.Entry(ventana)\n",
    "entrada_num2.pack()\n",
    "\n",
    "boton_calcular = tk.Button(ventana, text=\"Calcular\", command=calcular_y_mostrar_imagen)\n",
    "boton_calcular.pack()\n",
    "\n",
    "resultado_texto = tk.Text(ventana, height=5, width=40)\n",
    "resultado_texto.config(state=\"disabled\")\n",
    "resultado_texto.pack()\n",
    "\n",
    "resultado_label = tk.Label(ventana, text=\"\", font=(\"Helvetica\", 16))\n",
    "resultado_label.pack()\n",
    "\n",
    "# Ejecutar la aplicación\n",
    "ventana.mainloop()\n"
   ]
  },
  {
   "cell_type": "markdown",
   "id": "6183d641",
   "metadata": {},
   "source": [
    "import os\n",
    "\n",
    "# Obtener la ruta del escritorio del usuario\n",
    "escritorio = os.path.expanduser(\"~/Desktop\")\n",
    "\n",
    "# Añadir el nombre de la imagen al final de la ruta del escritorio\n",
    "nombre_imagen = \"mi_imagen.png\"\n",
    "ruta_imagen = os.path.join(escritorio, nombre_imagen)\n",
    "\n",
    "print(ruta_imagen)\n"
   ]
  },
  {
   "cell_type": "code",
   "execution_count": null,
   "id": "0ba4d3f5",
   "metadata": {},
   "outputs": [],
   "source": []
  }
 ],
 "metadata": {
  "kernelspec": {
   "display_name": "Python 3 (ipykernel)",
   "language": "python",
   "name": "python3"
  },
  "language_info": {
   "codemirror_mode": {
    "name": "ipython",
    "version": 3
   },
   "file_extension": ".py",
   "mimetype": "text/x-python",
   "name": "python",
   "nbconvert_exporter": "python",
   "pygments_lexer": "ipython3",
   "version": "3.9.12"
  }
 },
 "nbformat": 4,
 "nbformat_minor": 5
}
