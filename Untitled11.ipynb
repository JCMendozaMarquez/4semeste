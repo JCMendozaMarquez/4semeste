{
 "cells": [
  {
   "cell_type": "code",
   "execution_count": 1,
   "id": "d202b14a",
   "metadata": {},
   "outputs": [
    {
     "ename": "ModuleNotFoundError",
     "evalue": "No module named 'googletrans'",
     "output_type": "error",
     "traceback": [
      "\u001b[1;31m---------------------------------------------------------------------------\u001b[0m",
      "\u001b[1;31mModuleNotFoundError\u001b[0m                       Traceback (most recent call last)",
      "Input \u001b[1;32mIn [1]\u001b[0m, in \u001b[0;36m<cell line: 2>\u001b[1;34m()\u001b[0m\n\u001b[0;32m      1\u001b[0m \u001b[38;5;28;01mimport\u001b[39;00m \u001b[38;5;21;01mtkinter\u001b[39;00m \u001b[38;5;28;01mas\u001b[39;00m \u001b[38;5;21;01mtk\u001b[39;00m\n\u001b[1;32m----> 2\u001b[0m \u001b[38;5;28;01mfrom\u001b[39;00m \u001b[38;5;21;01mgoogletrans\u001b[39;00m \u001b[38;5;28;01mimport\u001b[39;00m Translator\n\u001b[0;32m      4\u001b[0m \u001b[38;5;28;01mdef\u001b[39;00m \u001b[38;5;21mtraducir_texto\u001b[39m():\n\u001b[0;32m      5\u001b[0m     texto_entrada \u001b[38;5;241m=\u001b[39m entrada_texto\u001b[38;5;241m.\u001b[39mget(\u001b[38;5;124m\"\u001b[39m\u001b[38;5;124m1.0\u001b[39m\u001b[38;5;124m\"\u001b[39m, \u001b[38;5;124m\"\u001b[39m\u001b[38;5;124mend-1c\u001b[39m\u001b[38;5;124m\"\u001b[39m)\n",
      "\u001b[1;31mModuleNotFoundError\u001b[0m: No module named 'googletrans'"
     ]
    }
   ],
   "source": [
    "import tkinter as tk\n",
    "from googletrans import Translator\n",
    "\n",
    "def traducir_texto():\n",
    "    texto_entrada = entrada_texto.get(\"1.0\", \"end-1c\")\n",
    "    idioma_origen = idioma_origen_var.get()\n",
    "    idioma_destino = idioma_destino_var.get()\n",
    "\n",
    "    translator = Translator()\n",
    "    traduccion = translator.translate(texto_entrada, src=idioma_origen, dest=idioma_destino)\n",
    "\n",
    "    salida_texto.config(state=\"normal\")\n",
    "    salida_texto.delete(\"1.0\", \"end\")\n",
    "    salida_texto.insert(\"1.0\", traduccion.text)\n",
    "    salida_texto.config(state=\"disabled\")\n",
    "\n",
    "# Crear ventana principal\n",
    "ventana = tk.Tk()\n",
    "ventana.title(\"Traductor\")\n",
    "\n",
    "# Crear y configurar elementos de la interfaz\n",
    "etiqueta_entrada = tk.Label(ventana, text=\"Texto a Traducir:\")\n",
    "etiqueta_entrada.pack()\n",
    "\n",
    "entrada_texto = tk.Text(ventana, height=5, width=40)\n",
    "entrada_texto.pack()\n",
    "\n",
    "etiqueta_idioma_origen = tk.Label(ventana, text=\"Idioma de Origen:\")\n",
    "etiqueta_idioma_origen.pack()\n",
    "\n",
    "idiomas_disponibles = [\"auto\", \"es\", \"en\", \"fr\", \"de\", \"it\", \"ja\", \"ko\", \"zh\", \"ru\"]\n",
    "idioma_origen_var = tk.StringVar()\n",
    "idioma_origen_var.set(\"auto\")\n",
    "menu_origen = tk.OptionMenu(ventana, idioma_origen_var, *idiomas_disponibles)\n",
    "menu_origen.pack()\n",
    "\n",
    "etiqueta_idioma_destino = tk.Label(ventana, text=\"Idioma de Destino:\")\n",
    "etiqueta_idioma_destino.pack()\n",
    "\n",
    "idioma_destino_var = tk.StringVar()\n",
    "idioma_destino_var.set(\"es\")\n",
    "menu_destino = tk.OptionMenu(ventana, idioma_destino_var, *idiomas_disponibles)\n",
    "menu_destino.pack()\n",
    "\n",
    "boton_traducir = tk.Button(ventana, text=\"Traducir\", command=traducir_texto)\n",
    "boton_traducir.pack()\n",
    "\n",
    "salida_texto = tk.Text(ventana, height=5, width=40)\n",
    "salida_texto.config(state=\"disabled\")\n",
    "salida_texto.pack()\n",
    "\n",
    "# Ejecutar la aplicación\n",
    "ventana.mainloop()\n"
   ]
  },
  {
   "cell_type": "code",
   "execution_count": null,
   "id": "6a963a69",
   "metadata": {},
   "outputs": [],
   "source": []
  }
 ],
 "metadata": {
  "kernelspec": {
   "display_name": "Python 3 (ipykernel)",
   "language": "python",
   "name": "python3"
  },
  "language_info": {
   "codemirror_mode": {
    "name": "ipython",
    "version": 3
   },
   "file_extension": ".py",
   "mimetype": "text/x-python",
   "name": "python",
   "nbconvert_exporter": "python",
   "pygments_lexer": "ipython3",
   "version": "3.9.12"
  }
 },
 "nbformat": 4,
 "nbformat_minor": 5
}
